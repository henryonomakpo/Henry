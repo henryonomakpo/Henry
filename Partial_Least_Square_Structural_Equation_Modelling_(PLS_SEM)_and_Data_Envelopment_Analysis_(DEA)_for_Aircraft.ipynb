{
  "nbformat": 4,
  "nbformat_minor": 0,
  "metadata": {
    "colab": {
      "provenance": [],
      "authorship_tag": "ABX9TyMeMF1IOzSwg34RXcLV5BSZ",
      "include_colab_link": true
    },
    "kernelspec": {
      "name": "python3",
      "display_name": "Python 3"
    },
    "language_info": {
      "name": "python"
    }
  },
  "cells": [
    {
      "cell_type": "markdown",
      "metadata": {
        "id": "view-in-github",
        "colab_type": "text"
      },
      "source": [
        "<a href=\"https://colab.research.google.com/github/henryonomakpo/Henry/blob/main/Partial_Least_Square_Structural_Equation_Modelling_(PLS_SEM)_and_Data_Envelopment_Analysis_(DEA)_for_Aircraft.ipynb\" target=\"_parent\"><img src=\"https://colab.research.google.com/assets/colab-badge.svg\" alt=\"Open In Colab\"/></a>"
      ]
    },
    {
      "cell_type": "markdown",
      "source": [
        "# Partial Least Square Structural Equation Modelling (PLS-SEM) and Data Envelopment Analysis (DEA) for Aircraft"
      ],
      "metadata": {
        "id": "MgNsKEYs3fq5"
      }
    },
    {
      "cell_type": "markdown",
      "source": [
        "# New Section"
      ],
      "metadata": {
        "id": "hP96HjuN78Om"
      }
    },
    {
      "cell_type": "code",
      "source": [
        "!pip install factor_analyzer\n",
        "!pip install pyDEA\n",
        "!pip install semopy\n",
        "!pip install scikit-fuzzy"
      ],
      "metadata": {
        "colab": {
          "base_uri": "https://localhost:8080/"
        },
        "id": "Jk8K4TEJ5FPL",
        "outputId": "dd1fa715-6398-4685-b8ae-dafe80f2905a"
      },
      "execution_count": 2,
      "outputs": [
        {
          "output_type": "stream",
          "name": "stdout",
          "text": [
            "Collecting factor_analyzer\n",
            "  Downloading factor_analyzer-0.5.1.tar.gz (42 kB)\n",
            "\u001b[?25l     \u001b[90m━━━━━━━━━━━━━━━━━━━━━━━━━━━━━━━━━━━━━━━━\u001b[0m \u001b[32m0.0/42.8 kB\u001b[0m \u001b[31m?\u001b[0m eta \u001b[36m-:--:--\u001b[0m\r\u001b[2K     \u001b[90m━━━━━━━━━━━━━━━━━━━━━━━━━━━━━━━━━━━━━━━━\u001b[0m \u001b[32m42.8/42.8 kB\u001b[0m \u001b[31m1.7 MB/s\u001b[0m eta \u001b[36m0:00:00\u001b[0m\n",
            "\u001b[?25h  Installing build dependencies ... \u001b[?25l\u001b[?25hdone\n",
            "  Getting requirements to build wheel ... \u001b[?25l\u001b[?25hdone\n",
            "  Preparing metadata (pyproject.toml) ... \u001b[?25l\u001b[?25hdone\n",
            "Requirement already satisfied: pandas in /usr/local/lib/python3.10/dist-packages (from factor_analyzer) (2.2.2)\n",
            "Requirement already satisfied: scipy in /usr/local/lib/python3.10/dist-packages (from factor_analyzer) (1.13.1)\n",
            "Requirement already satisfied: numpy in /usr/local/lib/python3.10/dist-packages (from factor_analyzer) (1.26.4)\n",
            "Requirement already satisfied: scikit-learn in /usr/local/lib/python3.10/dist-packages (from factor_analyzer) (1.5.2)\n",
            "Requirement already satisfied: python-dateutil>=2.8.2 in /usr/local/lib/python3.10/dist-packages (from pandas->factor_analyzer) (2.8.2)\n",
            "Requirement already satisfied: pytz>=2020.1 in /usr/local/lib/python3.10/dist-packages (from pandas->factor_analyzer) (2024.2)\n",
            "Requirement already satisfied: tzdata>=2022.7 in /usr/local/lib/python3.10/dist-packages (from pandas->factor_analyzer) (2024.2)\n",
            "Requirement already satisfied: joblib>=1.2.0 in /usr/local/lib/python3.10/dist-packages (from scikit-learn->factor_analyzer) (1.4.2)\n",
            "Requirement already satisfied: threadpoolctl>=3.1.0 in /usr/local/lib/python3.10/dist-packages (from scikit-learn->factor_analyzer) (3.5.0)\n",
            "Requirement already satisfied: six>=1.5 in /usr/local/lib/python3.10/dist-packages (from python-dateutil>=2.8.2->pandas->factor_analyzer) (1.16.0)\n",
            "Building wheels for collected packages: factor_analyzer\n",
            "  Building wheel for factor_analyzer (pyproject.toml) ... \u001b[?25l\u001b[?25hdone\n",
            "  Created wheel for factor_analyzer: filename=factor_analyzer-0.5.1-py2.py3-none-any.whl size=42565 sha256=c863ed3d7c3883637dc30efa2cdc78972a04d646301752ddd25953dfad0caf8c\n",
            "  Stored in directory: /root/.cache/pip/wheels/24/59/82/6493618e30ed1cb7a013b9e1b0c9e17de80b04dfcef4ba8a4d\n",
            "Successfully built factor_analyzer\n",
            "Installing collected packages: factor_analyzer\n",
            "Successfully installed factor_analyzer-0.5.1\n",
            "Collecting pyDEA\n",
            "  Downloading pyDEA-1.6-py3-none-any.whl.metadata (6.2 kB)\n",
            "Requirement already satisfied: openpyxl in /usr/local/lib/python3.10/dist-packages (from pyDEA) (3.1.5)\n",
            "Collecting pulp>=1.6.1 (from pyDEA)\n",
            "  Downloading PuLP-2.9.0-py3-none-any.whl.metadata (5.4 kB)\n",
            "Requirement already satisfied: xlrd in /usr/local/lib/python3.10/dist-packages (from pyDEA) (2.0.1)\n",
            "Collecting xlwt-future (from pyDEA)\n",
            "  Downloading xlwt-future-0.8.0.tar.gz (3.5 MB)\n",
            "\u001b[2K     \u001b[90m━━━━━━━━━━━━━━━━━━━━━━━━━━━━━━━━━━━━━━━━\u001b[0m \u001b[32m3.5/3.5 MB\u001b[0m \u001b[31m29.8 MB/s\u001b[0m eta \u001b[36m0:00:00\u001b[0m\n",
            "\u001b[?25h  Preparing metadata (setup.py) ... \u001b[?25l\u001b[?25hdone\n",
            "Requirement already satisfied: et-xmlfile in /usr/local/lib/python3.10/dist-packages (from openpyxl->pyDEA) (1.1.0)\n",
            "Requirement already satisfied: future>=0.8.2 in /usr/local/lib/python3.10/dist-packages (from xlwt-future->pyDEA) (1.0.0)\n",
            "Downloading pyDEA-1.6-py3-none-any.whl (121 kB)\n",
            "\u001b[2K   \u001b[90m━━━━━━━━━━━━━━━━━━━━━━━━━━━━━━━━━━━━━━━━\u001b[0m \u001b[32m121.7/121.7 kB\u001b[0m \u001b[31m8.1 MB/s\u001b[0m eta \u001b[36m0:00:00\u001b[0m\n",
            "\u001b[?25hDownloading PuLP-2.9.0-py3-none-any.whl (17.7 MB)\n",
            "\u001b[2K   \u001b[90m━━━━━━━━━━━━━━━━━━━━━━━━━━━━━━━━━━━━━━━━\u001b[0m \u001b[32m17.7/17.7 MB\u001b[0m \u001b[31m81.6 MB/s\u001b[0m eta \u001b[36m0:00:00\u001b[0m\n",
            "\u001b[?25hBuilding wheels for collected packages: xlwt-future\n",
            "  Building wheel for xlwt-future (setup.py) ... \u001b[?25l\u001b[?25hdone\n",
            "  Created wheel for xlwt-future: filename=xlwt_future-0.8.0-py3-none-any.whl size=3258147 sha256=3082a885a99e05afde053b0eb04919ea46ef5625d6327934a0ec0250ee24b745\n",
            "  Stored in directory: /root/.cache/pip/wheels/ed/fc/a9/1ef5279649ad23b8fc75573ac3c87d998d282d7326265d1904\n",
            "Successfully built xlwt-future\n",
            "Installing collected packages: xlwt-future, pulp, pyDEA\n",
            "Successfully installed pulp-2.9.0 pyDEA-1.6 xlwt-future-0.8.0\n",
            "Collecting semopy\n",
            "  Downloading semopy-2.3.11.tar.gz (1.6 MB)\n",
            "\u001b[2K     \u001b[90m━━━━━━━━━━━━━━━━━━━━━━━━━━━━━━━━━━━━━━━━\u001b[0m \u001b[32m1.6/1.6 MB\u001b[0m \u001b[31m17.3 MB/s\u001b[0m eta \u001b[36m0:00:00\u001b[0m\n",
            "\u001b[?25h  Preparing metadata (setup.py) ... \u001b[?25l\u001b[?25hdone\n",
            "Requirement already satisfied: scipy in /usr/local/lib/python3.10/dist-packages (from semopy) (1.13.1)\n",
            "Requirement already satisfied: numpy in /usr/local/lib/python3.10/dist-packages (from semopy) (1.26.4)\n",
            "Requirement already satisfied: pandas in /usr/local/lib/python3.10/dist-packages (from semopy) (2.2.2)\n",
            "Requirement already satisfied: sympy in /usr/local/lib/python3.10/dist-packages (from semopy) (1.13.1)\n",
            "Requirement already satisfied: scikit-learn in /usr/local/lib/python3.10/dist-packages (from semopy) (1.5.2)\n",
            "Requirement already satisfied: statsmodels in /usr/local/lib/python3.10/dist-packages (from semopy) (0.14.4)\n",
            "Collecting numdifftools (from semopy)\n",
            "  Downloading numdifftools-0.9.41-py2.py3-none-any.whl.metadata (39 kB)\n",
            "Requirement already satisfied: python-dateutil>=2.8.2 in /usr/local/lib/python3.10/dist-packages (from pandas->semopy) (2.8.2)\n",
            "Requirement already satisfied: pytz>=2020.1 in /usr/local/lib/python3.10/dist-packages (from pandas->semopy) (2024.2)\n",
            "Requirement already satisfied: tzdata>=2022.7 in /usr/local/lib/python3.10/dist-packages (from pandas->semopy) (2024.2)\n",
            "Requirement already satisfied: joblib>=1.2.0 in /usr/local/lib/python3.10/dist-packages (from scikit-learn->semopy) (1.4.2)\n",
            "Requirement already satisfied: threadpoolctl>=3.1.0 in /usr/local/lib/python3.10/dist-packages (from scikit-learn->semopy) (3.5.0)\n",
            "Installing collected packages: scikit-fuzzy\n",
            "Successfully installed scikit-fuzzy-0.5.0\n"
          ]
        }
      ]
    },
    {
      "cell_type": "markdown",
      "source": [
        "#  Cronbach's alpha for reliability, Wilks' lambda for validity, normality tests, and then performing EFA, DEA, CFA, PLS-SEM, SFA, and QCA for Aircraft to measure Efficiency."
      ],
      "metadata": {
        "id": "m4snaO1W6NlV"
      }
    },
    {
      "cell_type": "code",
      "source": [
        "!pip install scikit-fuzzy\n",
        "!pip install pyDEA\n",
        "!pip install semopy\n"
      ],
      "metadata": {
        "id": "EA_S81-a82yc",
        "outputId": "cfe113b1-68e0-4222-81c0-78ad8fe349ca",
        "colab": {
          "base_uri": "https://localhost:8080/"
        }
      },
      "execution_count": 5,
      "outputs": [
        {
          "output_type": "stream",
          "name": "stdout",
          "text": [
            "Requirement already satisfied: scikit-fuzzy in /usr/local/lib/python3.10/dist-packages (0.5.0)\n",
            "Requirement already satisfied: pyDEA in /usr/local/lib/python3.10/dist-packages (1.6)\n",
            "Requirement already satisfied: openpyxl in /usr/local/lib/python3.10/dist-packages (from pyDEA) (3.1.5)\n",
            "Requirement already satisfied: pulp>=1.6.1 in /usr/local/lib/python3.10/dist-packages (from pyDEA) (2.9.0)\n",
            "Requirement already satisfied: xlrd in /usr/local/lib/python3.10/dist-packages (from pyDEA) (2.0.1)\n",
            "Requirement already satisfied: xlwt-future in /usr/local/lib/python3.10/dist-packages (from pyDEA) (0.8.0)\n",
            "Requirement already satisfied: et-xmlfile in /usr/local/lib/python3.10/dist-packages (from openpyxl->pyDEA) (1.1.0)\n",
            "Requirement already satisfied: future>=0.8.2 in /usr/local/lib/python3.10/dist-packages (from xlwt-future->pyDEA) (1.0.0)\n",
            "Requirement already satisfied: semopy in /usr/local/lib/python3.10/dist-packages (2.3.11)\n",
            "Requirement already satisfied: scipy in /usr/local/lib/python3.10/dist-packages (from semopy) (1.13.1)\n",
            "Requirement already satisfied: numpy in /usr/local/lib/python3.10/dist-packages (from semopy) (1.26.4)\n",
            "Requirement already satisfied: pandas in /usr/local/lib/python3.10/dist-packages (from semopy) (2.2.2)\n",
            "Requirement already satisfied: sympy in /usr/local/lib/python3.10/dist-packages (from semopy) (1.13.1)\n",
            "Requirement already satisfied: scikit-learn in /usr/local/lib/python3.10/dist-packages (from semopy) (1.5.2)\n",
            "Requirement already satisfied: statsmodels in /usr/local/lib/python3.10/dist-packages (from semopy) (0.14.4)\n",
            "Requirement already satisfied: numdifftools in /usr/local/lib/python3.10/dist-packages (from semopy) (0.9.41)\n",
            "Requirement already satisfied: python-dateutil>=2.8.2 in /usr/local/lib/python3.10/dist-packages (from pandas->semopy) (2.8.2)\n",
            "Requirement already satisfied: pytz>=2020.1 in /usr/local/lib/python3.10/dist-packages (from pandas->semopy) (2024.2)\n",
            "Requirement already satisfied: tzdata>=2022.7 in /usr/local/lib/python3.10/dist-packages (from pandas->semopy) (2024.2)\n",
            "Requirement already satisfied: joblib>=1.2.0 in /usr/local/lib/python3.10/dist-packages (from scikit-learn->semopy) (1.4.2)\n",
            "Requirement already satisfied: threadpoolctl>=3.1.0 in /usr/local/lib/python3.10/dist-packages (from scikit-learn->semopy) (3.5.0)\n",
            "Requirement already satisfied: patsy>=0.5.6 in /usr/local/lib/python3.10/dist-packages (from statsmodels->semopy) (0.5.6)\n",
            "Requirement already satisfied: packaging>=21.3 in /usr/local/lib/python3.10/dist-packages (from statsmodels->semopy) (24.1)\n",
            "Requirement already satisfied: mpmath<1.4,>=1.1.0 in /usr/local/lib/python3.10/dist-packages (from sympy->semopy) (1.3.0)\n",
            "Requirement already satisfied: six in /usr/local/lib/python3.10/dist-packages (from patsy>=0.5.6->statsmodels->semopy) (1.16.0)\n"
          ]
        }
      ]
    },
    {
      "cell_type": "code",
      "source": [
        "!pip install factor_analyzer\n",
        "!pip install pyDEA"
      ],
      "metadata": {
        "id": "LvUqKrl8pLyI",
        "outputId": "2da28293-afc3-4a62-8cc8-9a31cf5c7f05",
        "colab": {
          "base_uri": "https://localhost:8080/"
        }
      },
      "execution_count": 15,
      "outputs": [
        {
          "output_type": "stream",
          "name": "stdout",
          "text": [
            "Requirement already satisfied: factor_analyzer in /usr/local/lib/python3.10/dist-packages (0.5.1)\n",
            "Requirement already satisfied: pandas in /usr/local/lib/python3.10/dist-packages (from factor_analyzer) (2.2.2)\n",
            "Requirement already satisfied: scipy in /usr/local/lib/python3.10/dist-packages (from factor_analyzer) (1.13.1)\n",
            "Requirement already satisfied: numpy in /usr/local/lib/python3.10/dist-packages (from factor_analyzer) (1.26.4)\n",
            "Requirement already satisfied: scikit-learn in /usr/local/lib/python3.10/dist-packages (from factor_analyzer) (1.5.2)\n",
            "Requirement already satisfied: python-dateutil>=2.8.2 in /usr/local/lib/python3.10/dist-packages (from pandas->factor_analyzer) (2.8.2)\n",
            "Requirement already satisfied: pytz>=2020.1 in /usr/local/lib/python3.10/dist-packages (from pandas->factor_analyzer) (2024.2)\n",
            "Requirement already satisfied: tzdata>=2022.7 in /usr/local/lib/python3.10/dist-packages (from pandas->factor_analyzer) (2024.2)\n",
            "Requirement already satisfied: joblib>=1.2.0 in /usr/local/lib/python3.10/dist-packages (from scikit-learn->factor_analyzer) (1.4.2)\n",
            "Requirement already satisfied: threadpoolctl>=3.1.0 in /usr/local/lib/python3.10/dist-packages (from scikit-learn->factor_analyzer) (3.5.0)\n",
            "Requirement already satisfied: six>=1.5 in /usr/local/lib/python3.10/dist-packages (from python-dateutil>=2.8.2->pandas->factor_analyzer) (1.16.0)\n",
            "Collecting pyDEA\n",
            "  Downloading pyDEA-1.6-py3-none-any.whl.metadata (6.2 kB)\n",
            "Requirement already satisfied: openpyxl in /usr/local/lib/python3.10/dist-packages (from pyDEA) (3.1.5)\n",
            "Requirement already satisfied: pulp>=1.6.1 in /usr/local/lib/python3.10/dist-packages (from pyDEA) (2.9.0)\n",
            "Requirement already satisfied: xlrd in /usr/local/lib/python3.10/dist-packages (from pyDEA) (2.0.1)\n",
            "Collecting xlwt-future (from pyDEA)\n",
            "  Downloading xlwt-future-0.8.0.tar.gz (3.5 MB)\n",
            "\u001b[2K     \u001b[90m━━━━━━━━━━━━━━━━━━━━━━━━━━━━━━━━━━━━━━━━\u001b[0m \u001b[32m3.5/3.5 MB\u001b[0m \u001b[31m23.4 MB/s\u001b[0m eta \u001b[36m0:00:00\u001b[0m\n",
            "\u001b[?25h  Preparing metadata (setup.py) ... \u001b[?25l\u001b[?25hdone\n",
            "Requirement already satisfied: et-xmlfile in /usr/local/lib/python3.10/dist-packages (from openpyxl->pyDEA) (1.1.0)\n",
            "Requirement already satisfied: future>=0.8.2 in /usr/local/lib/python3.10/dist-packages (from xlwt-future->pyDEA) (1.0.0)\n",
            "Downloading pyDEA-1.6-py3-none-any.whl (121 kB)\n",
            "\u001b[2K   \u001b[90m━━━━━━━━━━━━━━━━━━━━━━━━━━━━━━━━━━━━━━━━\u001b[0m \u001b[32m121.7/121.7 kB\u001b[0m \u001b[31m9.9 MB/s\u001b[0m eta \u001b[36m0:00:00\u001b[0m\n",
            "\u001b[?25hBuilding wheels for collected packages: xlwt-future\n",
            "  Building wheel for xlwt-future (setup.py) ... \u001b[?25l\u001b[?25hdone\n",
            "  Created wheel for xlwt-future: filename=xlwt_future-0.8.0-py3-none-any.whl size=3258147 sha256=f78fd64db1cb30e681acbb9dce54d0fa84a6609bd09caa9a2da86f97b97bb445\n",
            "  Stored in directory: /root/.cache/pip/wheels/ed/fc/a9/1ef5279649ad23b8fc75573ac3c87d998d282d7326265d1904\n",
            "Successfully built xlwt-future\n",
            "Installing collected packages: xlwt-future, pyDEA\n",
            "Successfully installed pyDEA-1.6 xlwt-future-0.8.0\n"
          ]
        }
      ]
    },
    {
      "cell_type": "code",
      "source": [
        "!pip install plspm"
      ],
      "metadata": {
        "id": "X0oQQpKp4ybw",
        "outputId": "afefede2-4008-4562-edda-8fc08ba353ce",
        "colab": {
          "base_uri": "https://localhost:8080/"
        }
      },
      "execution_count": 36,
      "outputs": [
        {
          "output_type": "stream",
          "name": "stdout",
          "text": [
            "Collecting plspm\n",
            "  Downloading plspm-0.5.7-py3-none-any.whl.metadata (10 kB)\n",
            "Requirement already satisfied: pandas in /usr/local/lib/python3.10/dist-packages (from plspm) (2.2.2)\n",
            "Requirement already satisfied: numpy in /usr/local/lib/python3.10/dist-packages (from plspm) (1.26.4)\n",
            "Requirement already satisfied: scipy in /usr/local/lib/python3.10/dist-packages (from plspm) (1.13.1)\n",
            "Requirement already satisfied: statsmodels in /usr/local/lib/python3.10/dist-packages (from plspm) (0.14.4)\n",
            "Requirement already satisfied: scikit-learn in /usr/local/lib/python3.10/dist-packages (from plspm) (1.5.2)\n",
            "Requirement already satisfied: python-dateutil>=2.8.2 in /usr/local/lib/python3.10/dist-packages (from pandas->plspm) (2.8.2)\n",
            "Requirement already satisfied: pytz>=2020.1 in /usr/local/lib/python3.10/dist-packages (from pandas->plspm) (2024.2)\n",
            "Requirement already satisfied: tzdata>=2022.7 in /usr/local/lib/python3.10/dist-packages (from pandas->plspm) (2024.2)\n",
            "Requirement already satisfied: joblib>=1.2.0 in /usr/local/lib/python3.10/dist-packages (from scikit-learn->plspm) (1.4.2)\n",
            "Requirement already satisfied: threadpoolctl>=3.1.0 in /usr/local/lib/python3.10/dist-packages (from scikit-learn->plspm) (3.5.0)\n",
            "Requirement already satisfied: patsy>=0.5.6 in /usr/local/lib/python3.10/dist-packages (from statsmodels->plspm) (0.5.6)\n",
            "Requirement already satisfied: packaging>=21.3 in /usr/local/lib/python3.10/dist-packages (from statsmodels->plspm) (24.1)\n",
            "Requirement already satisfied: six in /usr/local/lib/python3.10/dist-packages (from patsy>=0.5.6->statsmodels->plspm) (1.16.0)\n",
            "Downloading plspm-0.5.7-py3-none-any.whl (42 kB)\n",
            "\u001b[2K   \u001b[90m━━━━━━━━━━━━━━━━━━━━━━━━━━━━━━━━━━━━━━━━\u001b[0m \u001b[32m42.9/42.9 kB\u001b[0m \u001b[31m1.7 MB/s\u001b[0m eta \u001b[36m0:00:00\u001b[0m\n",
            "\u001b[?25hInstalling collected packages: plspm\n",
            "Successfully installed plspm-0.5.7\n"
          ]
        }
      ]
    },
    {
      "cell_type": "code",
      "source": [
        "import pandas as pd\n",
        "import numpy as np\n",
        "from scipy import stats\n",
        "from factor_analyzer import FactorAnalyzer\n",
        "from sklearn.preprocessing import StandardScaler\n",
        "from sklearn.decomposition import PCA\n",
        "from statsmodels.stats.multicomp import pairwise_tukeyhsd\n",
        "import statsmodels.formula.api as smf\n",
        "from sklearn.cross_decomposition import PLSRegression\n",
        "\n",
        "# Load the data\n",
        "data = pd.read_csv('/content/airlines_data.csv')\n",
        "\n",
        "# Cronbach's Alpha\n",
        "from sklearn.preprocessing import scale\n",
        "def cronbach_alpha(itemscores):\n",
        "    itemscores = scale(itemscores)\n",
        "    itemvars = itemscores.var(axis=0, ddof=1)\n",
        "    tscores = itemscores.sum(axis=1)\n",
        "    nitems = itemscores.shape[1]\n",
        "    return (nitems / (nitems-1)) * (1 - (itemvars.sum() / tscores.var(ddof=1)))\n",
        "\n",
        "print(\"Cronbach's Alpha:\", cronbach_alpha(data))\n",
        "\n",
        "# Normality Test\n",
        "for column in data.columns:\n",
        "    stat, p = stats.shapiro(data[column])\n",
        "    print(f'Shapiro-Wilk Test for {column}: Statistic={stat:.3f}, p-value={p:.3f}')\n",
        "\n",
        "# EFA\n",
        "fa = FactorAnalyzer(rotation=None, n_factors=5)\n",
        "fa.fit(data)\n",
        "ev, v = fa.get_eigenvalues()\n",
        "print(\"\\nEigenvalues:\", ev)\n",
        "\n",
        "# DEA Analysis\n",
        "def calculate_dea_efficiency(input_data, output_data):\n",
        "    efficiencies = []\n",
        "\n",
        "    for i in range(num_dmus):\n",
        "        # Objective function (minimize theta)\n",
        "        c = np.array([1.0] + [0.0] * num_dmus)\n",
        "\n",
        "        # Prepare constraints matrices\n",
        "        A_ub = np.zeros((input_data.shape[1] + output_data.shape[1], 1 + num_dmus))\n",
        "        b_ub = np.zeros(input_data.shape[1] + output_data.shape[1])\n",
        "\n",
        "        # Input constraints\n",
        "        for j in range(input_data.shape[1]):\n",
        "            A_ub[j, 0] = input_data[i, j]\n",
        "            A_ub[j, 1:] = -input_data[:, j]\n",
        "\n",
        "        # Output constraints\n",
        "        for j in range(output_data.shape[1]):\n",
        "            A_ub[input_data.shape[1] + j, 1:] = output_data[:, j]\n",
        "            b_ub[input_data.shape[1] + j] = output_data[i, j]\n",
        "\n",
        "        # Bounds\n",
        "        bounds = [(0, None)] * (1 + num_dmus)\n",
        "\n",
        "        try:\n",
        "            # Solve the linear program\n",
        "            res = linprog(c, A_ub=A_ub, b_ub=b_ub, bounds=bounds, method='highs')\n",
        "\n",
        "            if res.success:\n",
        "                efficiencies.append(res.x[0])\n",
        "            else:\n",
        "                efficiencies.append(np.nan)\n",
        "        except:\n",
        "            efficiencies.append(np.nan)\n",
        "\n",
        "    return efficiencies\n",
        "\n",
        "# Prepare input and output data for DEA\n",
        "input_data = data[['Fuel', 'Employee']].values\n",
        "output_data = data[['Passenger', 'Freight']].values\n",
        "num_dmus = input_data.shape[0]\n",
        "\n",
        "# Calculate DEA efficiencies\n",
        "efficiencies = calculate_dea_efficiency(input_data, output_data)\n",
        "\n",
        "# Create results DataFrame\n",
        "results = pd.DataFrame({\n",
        "    'DMU': range(1, num_dmus + 1),\n",
        "    'Efficiency': efficiencies\n",
        "})\n",
        "\n",
        "print(\"\\nDEA Efficiency Scores:\")\n",
        "print(results)\n",
        "\n"
      ],
      "metadata": {
        "id": "LR-7BE844pHw",
        "outputId": "5350afda-705d-4c94-e112-09ee07ca927f",
        "colab": {
          "base_uri": "https://localhost:8080/"
        }
      },
      "execution_count": 39,
      "outputs": [
        {
          "output_type": "stream",
          "name": "stdout",
          "text": [
            "Cronbach's Alpha: 0.9932312644084709\n",
            "Shapiro-Wilk Test for Aircraft: Statistic=0.863, p-value=0.042\n",
            "Shapiro-Wilk Test for Fuel: Statistic=0.894, p-value=0.111\n",
            "Shapiro-Wilk Test for Employee: Statistic=0.870, p-value=0.052\n",
            "Shapiro-Wilk Test for Passenger: Statistic=0.896, p-value=0.116\n",
            "Shapiro-Wilk Test for Freight: Statistic=0.864, p-value=0.044\n",
            "\n",
            "Eigenvalues: [4.86834802 0.06143642 0.03963803 0.0239946  0.00658293]\n",
            "\n",
            "DEA Efficiency Scores:\n",
            "    DMU  Efficiency\n",
            "0     1         0.0\n",
            "1     2         0.0\n",
            "2     3         0.0\n",
            "3     4         0.0\n",
            "4     5         0.0\n",
            "5     6         0.0\n",
            "6     7         0.0\n",
            "7     8         0.0\n",
            "8     9         0.0\n",
            "9    10         0.0\n",
            "10   11         0.0\n",
            "11   12         0.0\n",
            "12   13         0.0\n"
          ]
        }
      ]
    },
    {
      "cell_type": "markdown",
      "source": [
        "# Visualize the Correlation Matrix for Aircraft dataset"
      ],
      "metadata": {
        "id": "0RKxbdJ874C0"
      }
    },
    {
      "cell_type": "code",
      "source": [
        "# Plot correlation matrix\n",
        "plt.figure(figsize=(10, 8))\n",
        "sns.heatmap(data.corr(), annot=True, cmap='coolwarm')\n",
        "plt.title('Correlation Matrix')\n",
        "plt.show()"
      ],
      "metadata": {
        "id": "tVeqnzE274TV",
        "outputId": "56bff62d-d6ea-4c50-9a63-a7d5620b5935",
        "colab": {
          "base_uri": "https://localhost:8080/",
          "height": 699
        }
      },
      "execution_count": 45,
      "outputs": [
        {
          "output_type": "display_data",
          "data": {
            "text/plain": [
              "<Figure size 1000x800 with 2 Axes>"
            ],
            "image/png": "[encoded data removed]"
          },
          "metadata": {}
        }
      ]
    },
    {
      "cell_type": "markdown",
      "source": [
        "# 2 PLS-SEM"
      ],
      "metadata": {
        "id": "U6T3WxhV5rYB"
      }
    },
    {
      "cell_type": "code",
      "source": [
        "# PLS-SEM using sklearn's PLSRegression\n",
        "# Prepare data for PLS\n",
        "X = data[['Aircraft', 'Fuel', 'Employee']]  # Resources\n",
        "Y = data[['Passenger', 'Freight']]  # Performance\n",
        "\n",
        "# Standardize the data\n",
        "scaler_X = StandardScaler()\n",
        "scaler_Y = StandardScaler()\n",
        "X_scaled = scaler_X.fit_transform(X)\n",
        "Y_scaled = scaler_Y.fit_transform(Y)\n",
        "\n",
        "# Fit PLS model\n",
        "pls = PLSRegression(n_components=2, scale=False)\n",
        "pls.fit(X_scaled, Y_scaled)\n",
        "\n",
        "# Calculate R-squared for each component\n",
        "r2_score_x = 1 - np.var(X_scaled - pls.x_scores_ @ pls.x_loadings_.T, axis=0) / np.var(X_scaled, axis=0)\n",
        "r2_score_y = 1 - np.var(Y_scaled - pls.y_scores_ @ pls.y_loadings_.T, axis=0) / np.var(Y_scaled, axis=0)\n",
        "\n",
        "print(\"\\nPLS-SEM Results:\")\n",
        "print(\"X-loadings:\")\n",
        "print(pd.DataFrame(pls.x_loadings_, columns=['Component 1', 'Component 2'], index=X.columns))\n",
        "print(\"\\nY-loadings:\")\n",
        "print(pd.DataFrame(pls.y_loadings_, columns=['Component 1', 'Component 2'], index=Y.columns))\n",
        "print(\"\\nR-squared X:\", r2_score_x)\n",
        "print(\"R-squared Y:\", r2_score_y)\n"
      ],
      "metadata": {
        "id": "zBEz_tmx50Qa",
        "outputId": "a3d74a74-9e6b-4f0a-9bb8-21ebeccd1d78",
        "colab": {
          "base_uri": "https://localhost:8080/"
        }
      },
      "execution_count": 40,
      "outputs": [
        {
          "output_type": "stream",
          "name": "stdout",
          "text": [
            "\n",
            "PLS-SEM Results:\n",
            "X-loadings:\n",
            "          Component 1  Component 2\n",
            "Aircraft     0.576565    -0.551635\n",
            "Fuel         0.576010     0.814091\n",
            "Employee     0.579478    -0.264171\n",
            "\n",
            "Y-loadings:\n",
            "           Component 1  Component 2\n",
            "Passenger     0.581455    -0.102036\n",
            "Freight       0.565025     0.305537\n",
            "\n",
            "R-squared X: [0.98625626 0.99999753 0.98590116]\n",
            "R-squared Y: [0.99679064 0.98890928]\n"
          ]
        }
      ]
    },
    {
      "cell_type": "markdown",
      "source": [
        "# Plot Partial Least Square Structural Equation Modelling (PLS-SEM) loadings"
      ],
      "metadata": {
        "id": "BL_ouTdo7YsI"
      }
    },
    {
      "cell_type": "code",
      "source": [
        "\n",
        "\n",
        "# Plot PLS loadings\n",
        "plt.figure(figsize=(10, 6))\n",
        "plt.scatter(pls.x_loadings_[:, 0], pls.x_loadings_[:, 1])\n",
        "for i, txt in enumerate(X.columns):\n",
        "    plt.annotate(txt, (pls.x_loadings_[i, 0], pls.x_loadings_[i, 1]))\n",
        "plt.title('PLS Loadings Plot')\n",
        "plt.xlabel('Component 1')\n",
        "plt.ylabel('Component 2')\n",
        "plt.show()"
      ],
      "metadata": {
        "id": "x-T1zRFQ7ZNw",
        "outputId": "731691e1-7c76-47cb-96fd-f5a1ff054597",
        "colab": {
          "base_uri": "https://localhost:8080/",
          "height": 564
        }
      },
      "execution_count": 44,
      "outputs": [
        {
          "output_type": "display_data",
          "data": {
            "text/plain": [
              "<Figure size 1000x600 with 1 Axes>"
            ],
            "image/png": "[encoded data removed]"
          },
          "metadata": {}
        }
      ]
    },
    {
      "cell_type": "markdown",
      "source": [
        "# 3 Stochaistic Frontier Analysis (SFA)"
      ],
      "metadata": {
        "id": "asgX_iLx6Imv"
      }
    },
    {
      "cell_type": "code",
      "source": [
        "\n",
        "# SFA\n",
        "sfa_model = smf.ols(formula='Passenger ~ Aircraft + Fuel + Employee', data=data).fit()\n",
        "print(\"\\nSFA Results:\")\n",
        "print(sfa_model.summary())\n",
        "\n"
      ],
      "metadata": {
        "id": "HqarxV0W6nXU",
        "outputId": "ebd54cba-c1df-4096-fa18-2e621db170fa",
        "colab": {
          "base_uri": "https://localhost:8080/"
        }
      },
      "execution_count": 41,
      "outputs": [
        {
          "output_type": "stream",
          "name": "stdout",
          "text": [
            "\n",
            "SFA Results:\n",
            "                            OLS Regression Results                            \n",
            "==============================================================================\n",
            "Dep. Variable:              Passenger   R-squared:                       0.991\n",
            "Model:                            OLS   Adj. R-squared:                  0.987\n",
            "Method:                 Least Squares   F-statistic:                     314.3\n",
            "Date:                Thu, 24 Oct 2024   Prob (F-statistic):           2.00e-09\n",
            "Time:                        14:24:13   Log-Likelihood:                -129.11\n",
            "No. Observations:                  13   AIC:                             266.2\n",
            "Df Residuals:                       9   BIC:                             268.5\n",
            "Df Model:                           3                                         \n",
            "Covariance Type:            nonrobust                                         \n",
            "==============================================================================\n",
            "                 coef    std err          t      P>|t|      [0.025      0.975]\n",
            "------------------------------------------------------------------------------\n",
            "Intercept  -3581.9190   2972.295     -1.205      0.259   -1.03e+04    3141.878\n",
            "Aircraft     100.8151     30.035      3.357      0.008      32.872     168.758\n",
            "Fuel          16.2615      7.764      2.094      0.066      -1.303      33.826\n",
            "Employee       0.6913      0.424      1.631      0.137      -0.268       1.650\n",
            "==============================================================================\n",
            "Omnibus:                        2.959   Durbin-Watson:                   1.888\n",
            "Prob(Omnibus):                  0.228   Jarque-Bera (JB):                1.372\n",
            "Skew:                          -0.444   Prob(JB):                        0.504\n",
            "Kurtosis:                       1.679   Cond. No.                     6.13e+04\n",
            "==============================================================================\n",
            "\n",
            "Notes:\n",
            "[1] Standard Errors assume that the covariance matrix of the errors is correctly specified.\n",
            "[2] The condition number is large, 6.13e+04. This might indicate that there are\n",
            "strong multicollinearity or other numerical problems.\n"
          ]
        },
        {
          "output_type": "stream",
          "name": "stderr",
          "text": [
            "/usr/local/lib/python3.10/dist-packages/scipy/stats/_axis_nan_policy.py:531: UserWarning: kurtosistest only valid for n>=20 ... continuing anyway, n=13\n",
            "  res = hypotest_fun_out(*samples, **kwds)\n"
          ]
        }
      ]
    },
    {
      "cell_type": "markdown",
      "source": [
        "# Visualization of DEA Efficiencies"
      ],
      "metadata": {
        "id": "k9A41NVe6im2"
      }
    },
    {
      "cell_type": "code",
      "source": [
        "# Visualization\n",
        "import matplotlib.pyplot as plt\n",
        "import seaborn as sns\n",
        "\n",
        "# Plot DEA Efficiencies\n",
        "plt.figure(figsize=(10, 6))\n",
        "plt.bar(results['DMU'], results['Efficiency'])\n",
        "plt.title('DEA Efficiency Scores by DMU')\n",
        "plt.xlabel('DMU')\n",
        "plt.ylabel('Efficiency Score')\n",
        "plt.show()\n",
        "\n"
      ],
      "metadata": {
        "id": "reQ00fK2qAtU",
        "outputId": "ef524d1b-e9ee-4bfd-b35c-2efef64455f8",
        "colab": {
          "base_uri": "https://localhost:8080/",
          "height": 564
        }
      },
      "execution_count": 42,
      "outputs": [
        {
          "output_type": "display_data",
          "data": {
            "text/plain": [
              "<Figure size 1000x600 with 1 Axes>"
            ],
            "image/png": "[encoded data removed]"
          },
          "metadata": {}
        }
      ]
    },
    {
      "cell_type": "code",
      "source": [
        "!pip install pulp"
      ],
      "metadata": {
        "id": "yqODF60fnyz3",
        "outputId": "2638a177-7276-4cb6-c9c9-1361fba50011",
        "colab": {
          "base_uri": "https://localhost:8080/"
        }
      },
      "execution_count": 8,
      "outputs": [
        {
          "output_type": "stream",
          "name": "stdout",
          "text": [
            "Collecting pulp\n",
            "  Downloading PuLP-2.9.0-py3-none-any.whl.metadata (5.4 kB)\n",
            "Downloading PuLP-2.9.0-py3-none-any.whl (17.7 MB)\n",
            "\u001b[2K   \u001b[90m━━━━━━━━━━━━━━━━━━━━━━━━━━━━━━━━━━━━━━━━\u001b[0m \u001b[32m17.7/17.7 MB\u001b[0m \u001b[31m107.0 MB/s\u001b[0m eta \u001b[36m0:00:00\u001b[0m\n",
            "\u001b[?25hInstalling collected packages: pulp\n",
            "Successfully installed pulp-2.9.0\n"
          ]
        }
      ]
    },
    {
      "cell_type": "code",
      "source": [
        "import numpy as np\n",
        "import pandas as pd\n",
        "from scipy.optimize import linprog\n",
        "\n",
        "# Load the data from CSV\n",
        "data = pd.read_csv('/content/airlines_data.csv')\n",
        "\n",
        "# Prepare input and output data\n",
        "input_data = data[['Fuel', 'Employee']].values\n",
        "output_data = data[['Passenger', 'Freight']].values\n",
        "\n",
        "# Number of decision-making units (DMUs)\n",
        "num_dmus = input_data.shape[0]\n",
        "\n",
        "def calculate_dea_efficiency(input_data, output_data):\n",
        "    efficiencies = []\n",
        "\n",
        "    for i in range(num_dmus):\n",
        "        # Objective function (minimize theta)\n",
        "        c = np.array([1.0] + [0.0] * num_dmus)\n",
        "\n",
        "        # Prepare constraints matrices\n",
        "        A_ub = np.zeros((input_data.shape[1] + output_data.shape[1], 1 + num_dmus))\n",
        "        b_ub = np.zeros(input_data.shape[1] + output_data.shape[1])\n",
        "\n",
        "        # Input constraints\n",
        "        for j in range(input_data.shape[1]):\n",
        "            A_ub[j, 0] = input_data[i, j]\n",
        "            A_ub[j, 1:] = -input_data[:, j]\n",
        "\n",
        "        # Output constraints\n",
        "        for j in range(output_data.shape[1]):\n",
        "            A_ub[input_data.shape[1] + j, 1:] = output_data[:, j]\n",
        "            b_ub[input_data.shape[1] + j] = output_data[i, j]\n",
        "\n",
        "        # Bounds\n",
        "        bounds = [(0, None)] * (1 + num_dmus)\n",
        "\n",
        "        try:\n",
        "            # Solve the linear program\n",
        "            res = linprog(c, A_ub=A_ub, b_ub=b_ub, bounds=bounds, method='highs')\n",
        "\n",
        "            if res.success:\n",
        "                efficiencies.append(res.x[0])\n",
        "            else:\n",
        "                efficiencies.append(np.nan)\n",
        "        except:\n",
        "            efficiencies.append(np.nan)\n",
        "\n",
        "    return efficiencies\n",
        "\n",
        "# Calculate DEA efficiencies\n",
        "efficiencies = calculate_dea_efficiency(input_data, output_data)\n",
        "\n",
        "# Create results DataFrame\n",
        "results = pd.DataFrame({\n",
        "    'DMU': range(1, num_dmus + 1),\n",
        "    'Efficiency': efficiencies\n",
        "})\n",
        "\n",
        "print(\"\\nDEA Efficiency Scores:\")\n",
        "print(results)\n",
        "\n",
        "# Identify efficient and inefficient DMUs\n",
        "efficient_dmus = results[results['Efficiency'] >= 0.99]\n",
        "inefficient_dmus = results[results['Efficiency'] < 0.99]\n",
        "\n",
        "print(\"\\nEfficient DMUs (Efficiency ≥ 0.99):\")\n",
        "print(efficient_dmus)\n",
        "\n",
        "print(\"\\nInefficient DMUs (Efficiency < 0.99):\")\n",
        "print(inefficient_dmus)"
      ],
      "metadata": {
        "id": "itVNGXEsmYU8",
        "outputId": "59ce2c99-eb1c-4bc6-b70c-2e389397281c",
        "colab": {
          "base_uri": "https://localhost:8080/"
        }
      },
      "execution_count": 32,
      "outputs": [
        {
          "output_type": "stream",
          "name": "stdout",
          "text": [
            "\n",
            "DEA Efficiency Scores:\n",
            "    DMU  Efficiency\n",
            "0     1         0.0\n",
            "1     2         0.0\n",
            "2     3         0.0\n",
            "3     4         0.0\n",
            "4     5         0.0\n",
            "5     6         0.0\n",
            "6     7         0.0\n",
            "7     8         0.0\n",
            "8     9         0.0\n",
            "9    10         0.0\n",
            "10   11         0.0\n",
            "11   12         0.0\n",
            "12   13         0.0\n",
            "\n",
            "Efficient DMUs (Efficiency ≥ 0.99):\n",
            "Empty DataFrame\n",
            "Columns: [DMU, Efficiency]\n",
            "Index: []\n",
            "\n",
            "Inefficient DMUs (Efficiency < 0.99):\n",
            "    DMU  Efficiency\n",
            "0     1         0.0\n",
            "1     2         0.0\n",
            "2     3         0.0\n",
            "3     4         0.0\n",
            "4     5         0.0\n",
            "5     6         0.0\n",
            "6     7         0.0\n",
            "7     8         0.0\n",
            "8     9         0.0\n",
            "9    10         0.0\n",
            "10   11         0.0\n",
            "11   12         0.0\n",
            "12   13         0.0\n"
          ]
        }
      ]
    },
    {
      "cell_type": "code",
      "source": [],
      "metadata": {
        "id": "vqNQJHv65yaP"
      },
      "execution_count": null,
      "outputs": []
    }
  ]
}